{
  "nbformat": 4,
  "nbformat_minor": 0,
  "metadata": {
    "colab": {
      "provenance": [],
      "authorship_tag": "ABX9TyMV/c2tgzrdM38SnS5yr1PQ",
      "include_colab_link": true
    },
    "kernelspec": {
      "name": "python3",
      "display_name": "Python 3"
    },
    "language_info": {
      "name": "python"
    }
  },
  "cells": [
    {
      "cell_type": "markdown",
      "metadata": {
        "id": "view-in-github",
        "colab_type": "text"
      },
      "source": [
        "<a href=\"https://colab.research.google.com/github/Deyonrose/labexercises/blob/main/2348513_lab6.ipynb\" target=\"_parent\"><img src=\"https://colab.research.google.com/assets/colab-badge.svg\" alt=\"Open In Colab\"/></a>"
      ]
    },
    {
      "cell_type": "code",
      "execution_count": 3,
      "metadata": {
        "id": "II36HcK8uWVc"
      },
      "outputs": [],
      "source": [
        "import numpy as np\n",
        "import matplotlib.pyplot as plt\n",
        "import pandas as pd\n",
        "import seaborn as sn"
      ]
    },
    {
      "cell_type": "code",
      "source": [
        "data = pd.read_csv('/content/insurance.csv')\n",
        "data.head()"
      ],
      "metadata": {
        "colab": {
          "base_uri": "https://localhost:8080/",
          "height": 206
        },
        "id": "vic2v-I3vGfp",
        "outputId": "36671047-9f50-45cf-ed49-d083bc886f13"
      },
      "execution_count": 4,
      "outputs": [
        {
          "output_type": "execute_result",
          "data": {
            "text/plain": [
              "   age     sex     bmi  children smoker     region      charges\n",
              "0   19  female  27.900         0    yes  southwest  16884.92400\n",
              "1   18    male  33.770         1     no  southeast   1725.55230\n",
              "2   28    male  33.000         3     no  southeast   4449.46200\n",
              "3   33    male  22.705         0     no  northwest  21984.47061\n",
              "4   32    male  28.880         0     no  northwest   3866.85520"
            ],
            "text/html": [
              "\n",
              "  <div id=\"df-86b79d6c-ec2e-4c07-ad1a-98260eb09bda\" class=\"colab-df-container\">\n",
              "    <div>\n",
              "<style scoped>\n",
              "    .dataframe tbody tr th:only-of-type {\n",
              "        vertical-align: middle;\n",
              "    }\n",
              "\n",
              "    .dataframe tbody tr th {\n",
              "        vertical-align: top;\n",
              "    }\n",
              "\n",
              "    .dataframe thead th {\n",
              "        text-align: right;\n",
              "    }\n",
              "</style>\n",
              "<table border=\"1\" class=\"dataframe\">\n",
              "  <thead>\n",
              "    <tr style=\"text-align: right;\">\n",
              "      <th></th>\n",
              "      <th>age</th>\n",
              "      <th>sex</th>\n",
              "      <th>bmi</th>\n",
              "      <th>children</th>\n",
              "      <th>smoker</th>\n",
              "      <th>region</th>\n",
              "      <th>charges</th>\n",
              "    </tr>\n",
              "  </thead>\n",
              "  <tbody>\n",
              "    <tr>\n",
              "      <th>0</th>\n",
              "      <td>19</td>\n",
              "      <td>female</td>\n",
              "      <td>27.900</td>\n",
              "      <td>0</td>\n",
              "      <td>yes</td>\n",
              "      <td>southwest</td>\n",
              "      <td>16884.92400</td>\n",
              "    </tr>\n",
              "    <tr>\n",
              "      <th>1</th>\n",
              "      <td>18</td>\n",
              "      <td>male</td>\n",
              "      <td>33.770</td>\n",
              "      <td>1</td>\n",
              "      <td>no</td>\n",
              "      <td>southeast</td>\n",
              "      <td>1725.55230</td>\n",
              "    </tr>\n",
              "    <tr>\n",
              "      <th>2</th>\n",
              "      <td>28</td>\n",
              "      <td>male</td>\n",
              "      <td>33.000</td>\n",
              "      <td>3</td>\n",
              "      <td>no</td>\n",
              "      <td>southeast</td>\n",
              "      <td>4449.46200</td>\n",
              "    </tr>\n",
              "    <tr>\n",
              "      <th>3</th>\n",
              "      <td>33</td>\n",
              "      <td>male</td>\n",
              "      <td>22.705</td>\n",
              "      <td>0</td>\n",
              "      <td>no</td>\n",
              "      <td>northwest</td>\n",
              "      <td>21984.47061</td>\n",
              "    </tr>\n",
              "    <tr>\n",
              "      <th>4</th>\n",
              "      <td>32</td>\n",
              "      <td>male</td>\n",
              "      <td>28.880</td>\n",
              "      <td>0</td>\n",
              "      <td>no</td>\n",
              "      <td>northwest</td>\n",
              "      <td>3866.85520</td>\n",
              "    </tr>\n",
              "  </tbody>\n",
              "</table>\n",
              "</div>\n",
              "    <div class=\"colab-df-buttons\">\n",
              "\n",
              "  <div class=\"colab-df-container\">\n",
              "    <button class=\"colab-df-convert\" onclick=\"convertToInteractive('df-86b79d6c-ec2e-4c07-ad1a-98260eb09bda')\"\n",
              "            title=\"Convert this dataframe to an interactive table.\"\n",
              "            style=\"display:none;\">\n",
              "\n",
              "  <svg xmlns=\"http://www.w3.org/2000/svg\" height=\"24px\" viewBox=\"0 -960 960 960\">\n",
              "    <path d=\"M120-120v-720h720v720H120Zm60-500h600v-160H180v160Zm220 220h160v-160H400v160Zm0 220h160v-160H400v160ZM180-400h160v-160H180v160Zm440 0h160v-160H620v160ZM180-180h160v-160H180v160Zm440 0h160v-160H620v160Z\"/>\n",
              "  </svg>\n",
              "    </button>\n",
              "\n",
              "  <style>\n",
              "    .colab-df-container {\n",
              "      display:flex;\n",
              "      gap: 12px;\n",
              "    }\n",
              "\n",
              "    .colab-df-convert {\n",
              "      background-color: #E8F0FE;\n",
              "      border: none;\n",
              "      border-radius: 50%;\n",
              "      cursor: pointer;\n",
              "      display: none;\n",
              "      fill: #1967D2;\n",
              "      height: 32px;\n",
              "      padding: 0 0 0 0;\n",
              "      width: 32px;\n",
              "    }\n",
              "\n",
              "    .colab-df-convert:hover {\n",
              "      background-color: #E2EBFA;\n",
              "      box-shadow: 0px 1px 2px rgba(60, 64, 67, 0.3), 0px 1px 3px 1px rgba(60, 64, 67, 0.15);\n",
              "      fill: #174EA6;\n",
              "    }\n",
              "\n",
              "    .colab-df-buttons div {\n",
              "      margin-bottom: 4px;\n",
              "    }\n",
              "\n",
              "    [theme=dark] .colab-df-convert {\n",
              "      background-color: #3B4455;\n",
              "      fill: #D2E3FC;\n",
              "    }\n",
              "\n",
              "    [theme=dark] .colab-df-convert:hover {\n",
              "      background-color: #434B5C;\n",
              "      box-shadow: 0px 1px 3px 1px rgba(0, 0, 0, 0.15);\n",
              "      filter: drop-shadow(0px 1px 2px rgba(0, 0, 0, 0.3));\n",
              "      fill: #FFFFFF;\n",
              "    }\n",
              "  </style>\n",
              "\n",
              "    <script>\n",
              "      const buttonEl =\n",
              "        document.querySelector('#df-86b79d6c-ec2e-4c07-ad1a-98260eb09bda button.colab-df-convert');\n",
              "      buttonEl.style.display =\n",
              "        google.colab.kernel.accessAllowed ? 'block' : 'none';\n",
              "\n",
              "      async function convertToInteractive(key) {\n",
              "        const element = document.querySelector('#df-86b79d6c-ec2e-4c07-ad1a-98260eb09bda');\n",
              "        const dataTable =\n",
              "          await google.colab.kernel.invokeFunction('convertToInteractive',\n",
              "                                                    [key], {});\n",
              "        if (!dataTable) return;\n",
              "\n",
              "        const docLinkHtml = 'Like what you see? Visit the ' +\n",
              "          '<a target=\"_blank\" href=https://colab.research.google.com/notebooks/data_table.ipynb>data table notebook</a>'\n",
              "          + ' to learn more about interactive tables.';\n",
              "        element.innerHTML = '';\n",
              "        dataTable['output_type'] = 'display_data';\n",
              "        await google.colab.output.renderOutput(dataTable, element);\n",
              "        const docLink = document.createElement('div');\n",
              "        docLink.innerHTML = docLinkHtml;\n",
              "        element.appendChild(docLink);\n",
              "      }\n",
              "    </script>\n",
              "  </div>\n",
              "\n",
              "\n",
              "<div id=\"df-ed71a0f5-662a-415d-8ee1-6450ebfafcb6\">\n",
              "  <button class=\"colab-df-quickchart\" onclick=\"quickchart('df-ed71a0f5-662a-415d-8ee1-6450ebfafcb6')\"\n",
              "            title=\"Suggest charts.\"\n",
              "            style=\"display:none;\">\n",
              "\n",
              "<svg xmlns=\"http://www.w3.org/2000/svg\" height=\"24px\"viewBox=\"0 0 24 24\"\n",
              "     width=\"24px\">\n",
              "    <g>\n",
              "        <path d=\"M19 3H5c-1.1 0-2 .9-2 2v14c0 1.1.9 2 2 2h14c1.1 0 2-.9 2-2V5c0-1.1-.9-2-2-2zM9 17H7v-7h2v7zm4 0h-2V7h2v10zm4 0h-2v-4h2v4z\"/>\n",
              "    </g>\n",
              "</svg>\n",
              "  </button>\n",
              "\n",
              "<style>\n",
              "  .colab-df-quickchart {\n",
              "      --bg-color: #E8F0FE;\n",
              "      --fill-color: #1967D2;\n",
              "      --hover-bg-color: #E2EBFA;\n",
              "      --hover-fill-color: #174EA6;\n",
              "      --disabled-fill-color: #AAA;\n",
              "      --disabled-bg-color: #DDD;\n",
              "  }\n",
              "\n",
              "  [theme=dark] .colab-df-quickchart {\n",
              "      --bg-color: #3B4455;\n",
              "      --fill-color: #D2E3FC;\n",
              "      --hover-bg-color: #434B5C;\n",
              "      --hover-fill-color: #FFFFFF;\n",
              "      --disabled-bg-color: #3B4455;\n",
              "      --disabled-fill-color: #666;\n",
              "  }\n",
              "\n",
              "  .colab-df-quickchart {\n",
              "    background-color: var(--bg-color);\n",
              "    border: none;\n",
              "    border-radius: 50%;\n",
              "    cursor: pointer;\n",
              "    display: none;\n",
              "    fill: var(--fill-color);\n",
              "    height: 32px;\n",
              "    padding: 0;\n",
              "    width: 32px;\n",
              "  }\n",
              "\n",
              "  .colab-df-quickchart:hover {\n",
              "    background-color: var(--hover-bg-color);\n",
              "    box-shadow: 0 1px 2px rgba(60, 64, 67, 0.3), 0 1px 3px 1px rgba(60, 64, 67, 0.15);\n",
              "    fill: var(--button-hover-fill-color);\n",
              "  }\n",
              "\n",
              "  .colab-df-quickchart-complete:disabled,\n",
              "  .colab-df-quickchart-complete:disabled:hover {\n",
              "    background-color: var(--disabled-bg-color);\n",
              "    fill: var(--disabled-fill-color);\n",
              "    box-shadow: none;\n",
              "  }\n",
              "\n",
              "  .colab-df-spinner {\n",
              "    border: 2px solid var(--fill-color);\n",
              "    border-color: transparent;\n",
              "    border-bottom-color: var(--fill-color);\n",
              "    animation:\n",
              "      spin 1s steps(1) infinite;\n",
              "  }\n",
              "\n",
              "  @keyframes spin {\n",
              "    0% {\n",
              "      border-color: transparent;\n",
              "      border-bottom-color: var(--fill-color);\n",
              "      border-left-color: var(--fill-color);\n",
              "    }\n",
              "    20% {\n",
              "      border-color: transparent;\n",
              "      border-left-color: var(--fill-color);\n",
              "      border-top-color: var(--fill-color);\n",
              "    }\n",
              "    30% {\n",
              "      border-color: transparent;\n",
              "      border-left-color: var(--fill-color);\n",
              "      border-top-color: var(--fill-color);\n",
              "      border-right-color: var(--fill-color);\n",
              "    }\n",
              "    40% {\n",
              "      border-color: transparent;\n",
              "      border-right-color: var(--fill-color);\n",
              "      border-top-color: var(--fill-color);\n",
              "    }\n",
              "    60% {\n",
              "      border-color: transparent;\n",
              "      border-right-color: var(--fill-color);\n",
              "    }\n",
              "    80% {\n",
              "      border-color: transparent;\n",
              "      border-right-color: var(--fill-color);\n",
              "      border-bottom-color: var(--fill-color);\n",
              "    }\n",
              "    90% {\n",
              "      border-color: transparent;\n",
              "      border-bottom-color: var(--fill-color);\n",
              "    }\n",
              "  }\n",
              "</style>\n",
              "\n",
              "  <script>\n",
              "    async function quickchart(key) {\n",
              "      const quickchartButtonEl =\n",
              "        document.querySelector('#' + key + ' button');\n",
              "      quickchartButtonEl.disabled = true;  // To prevent multiple clicks.\n",
              "      quickchartButtonEl.classList.add('colab-df-spinner');\n",
              "      try {\n",
              "        const charts = await google.colab.kernel.invokeFunction(\n",
              "            'suggestCharts', [key], {});\n",
              "      } catch (error) {\n",
              "        console.error('Error during call to suggestCharts:', error);\n",
              "      }\n",
              "      quickchartButtonEl.classList.remove('colab-df-spinner');\n",
              "      quickchartButtonEl.classList.add('colab-df-quickchart-complete');\n",
              "    }\n",
              "    (() => {\n",
              "      let quickchartButtonEl =\n",
              "        document.querySelector('#df-ed71a0f5-662a-415d-8ee1-6450ebfafcb6 button');\n",
              "      quickchartButtonEl.style.display =\n",
              "        google.colab.kernel.accessAllowed ? 'block' : 'none';\n",
              "    })();\n",
              "  </script>\n",
              "</div>\n",
              "    </div>\n",
              "  </div>\n"
            ]
          },
          "metadata": {},
          "execution_count": 4
        }
      ]
    },
    {
      "cell_type": "code",
      "source": [
        "pd.unique(data['region'])"
      ],
      "metadata": {
        "colab": {
          "base_uri": "https://localhost:8080/"
        },
        "id": "CTJsp1t5vRD_",
        "outputId": "e1c39f30-4f36-4b6f-f112-e9e5d8ae23bb"
      },
      "execution_count": 5,
      "outputs": [
        {
          "output_type": "execute_result",
          "data": {
            "text/plain": [
              "array(['southwest', 'southeast', 'northwest', 'northeast'], dtype=object)"
            ]
          },
          "metadata": {},
          "execution_count": 5
        }
      ]
    },
    {
      "cell_type": "code",
      "source": [
        "data.shape"
      ],
      "metadata": {
        "colab": {
          "base_uri": "https://localhost:8080/"
        },
        "id": "OIp4CVUhvT35",
        "outputId": "5a8ad737-14b9-4445-f4cd-1f7ec79604a7"
      },
      "execution_count": 6,
      "outputs": [
        {
          "output_type": "execute_result",
          "data": {
            "text/plain": [
              "(1338, 7)"
            ]
          },
          "metadata": {},
          "execution_count": 6
        }
      ]
    },
    {
      "cell_type": "code",
      "source": [
        "data.isnull().sum()"
      ],
      "metadata": {
        "colab": {
          "base_uri": "https://localhost:8080/"
        },
        "id": "OUnRPDS8vT62",
        "outputId": "d60b763c-5438-45f7-b1b9-1a0a34cfdd0e"
      },
      "execution_count": 7,
      "outputs": [
        {
          "output_type": "execute_result",
          "data": {
            "text/plain": [
              "age         0\n",
              "sex         0\n",
              "bmi         0\n",
              "children    0\n",
              "smoker      0\n",
              "region      0\n",
              "charges     0\n",
              "dtype: int64"
            ]
          },
          "metadata": {},
          "execution_count": 7
        }
      ]
    },
    {
      "cell_type": "code",
      "source": [
        "from sklearn.preprocessing import OneHotEncoder\n",
        "categorical_columns=['sex','smoker', 'region']\n",
        "data_encoded=pd.get_dummies(data ,columns=categorical_columns,drop_first=True)\n",
        "print(data_encoded)"
      ],
      "metadata": {
        "colab": {
          "base_uri": "https://localhost:8080/"
        },
        "id": "JSANr7s0vT-U",
        "outputId": "6b31e1bf-fd08-43b0-be60-29d3b70ea858"
      },
      "execution_count": 8,
      "outputs": [
        {
          "output_type": "stream",
          "name": "stdout",
          "text": [
            "      age     bmi  children      charges  sex_male  smoker_yes  \\\n",
            "0      19  27.900         0  16884.92400         0           1   \n",
            "1      18  33.770         1   1725.55230         1           0   \n",
            "2      28  33.000         3   4449.46200         1           0   \n",
            "3      33  22.705         0  21984.47061         1           0   \n",
            "4      32  28.880         0   3866.85520         1           0   \n",
            "...   ...     ...       ...          ...       ...         ...   \n",
            "1333   50  30.970         3  10600.54830         1           0   \n",
            "1334   18  31.920         0   2205.98080         0           0   \n",
            "1335   18  36.850         0   1629.83350         0           0   \n",
            "1336   21  25.800         0   2007.94500         0           0   \n",
            "1337   61  29.070         0  29141.36030         0           1   \n",
            "\n",
            "      region_northwest  region_southeast  region_southwest  \n",
            "0                    0                 0                 1  \n",
            "1                    0                 1                 0  \n",
            "2                    0                 1                 0  \n",
            "3                    1                 0                 0  \n",
            "4                    1                 0                 0  \n",
            "...                ...               ...               ...  \n",
            "1333                 1                 0                 0  \n",
            "1334                 0                 0                 0  \n",
            "1335                 0                 1                 0  \n",
            "1336                 0                 0                 1  \n",
            "1337                 1                 0                 0  \n",
            "\n",
            "[1338 rows x 9 columns]\n"
          ]
        }
      ]
    },
    {
      "cell_type": "code",
      "source": [
        "from sklearn import linear_model\n",
        "from sklearn.linear_model import LinearRegression\n",
        "from sklearn.model_selection import train_test_split"
      ],
      "metadata": {
        "id": "MJmo_8HavUAL"
      },
      "execution_count": 9,
      "outputs": []
    },
    {
      "cell_type": "code",
      "source": [
        "X=data_encoded.drop('charges',axis=1)\n",
        "y=data_encoded['charges']\n",
        "X_train, X_test, y_train, y_test = train_test_split(X, y, test_size=0.2, random_state=40)\n",
        "model =LinearRegression()\n",
        "model.fit(X_train, y_train)\n",
        "y_pred = model.predict(X_test)\n",
        "y_pred"
      ],
      "metadata": {
        "colab": {
          "base_uri": "https://localhost:8080/"
        },
        "id": "jRzcbdOOvUCy",
        "outputId": "dd87dc1d-12a9-4a99-a060-e673b97b6baa"
      },
      "execution_count": 10,
      "outputs": [
        {
          "output_type": "execute_result",
          "data": {
            "text/plain": [
              "array([ 5.58549587e+03,  2.82446295e+04,  1.11983930e+04,  1.19395839e+04,\n",
              "        2.49204013e+04,  7.42060224e+03,  1.46666642e+04,  3.05539944e+04,\n",
              "        1.18145313e+04,  3.16121776e+04,  3.32665018e+04,  1.19348301e+04,\n",
              "        1.45021793e+04,  1.09866607e+04,  1.27603345e+04,  6.77257642e+03,\n",
              "        6.29430425e+03,  3.89433422e+04,  3.48381315e+04,  8.34324712e+03,\n",
              "        1.22909340e+04,  1.92792857e+03,  5.56637206e+03,  3.24439431e+04,\n",
              "        1.38636639e+04,  2.60977054e+04,  1.45089630e+04,  1.85252253e+03,\n",
              "        6.82262112e+03,  8.84738620e+03,  3.07720452e+04,  9.06282417e+03,\n",
              "        3.16416352e+04,  3.63100210e+04,  2.36230680e+04,  1.10894364e+03,\n",
              "        1.40119865e+04,  1.03129582e+04,  9.25727862e+03,  1.64402244e+04,\n",
              "        7.69127038e+03,  1.30539969e+04,  8.32895297e+03,  8.19417792e+03,\n",
              "        1.01406724e+03,  1.03081822e+04,  3.86425540e+03,  2.76896020e+04,\n",
              "        6.27225718e+03,  1.00977092e+04,  1.40753412e+04,  2.51450635e+04,\n",
              "        8.63865014e+03,  1.16957743e+04,  9.13835785e+03,  1.34007321e+03,\n",
              "        9.66708467e+03,  5.50867824e+03,  9.74531040e+03,  6.46611168e+03,\n",
              "        4.12102763e+03,  1.57596710e+03,  3.73158666e+03,  1.70729790e+04,\n",
              "        3.99160446e+03,  4.36673735e+03,  1.09605999e+04,  1.84750828e+03,\n",
              "        1.20175784e+04,  3.15240966e+04,  2.47641352e+03,  2.14789206e+03,\n",
              "        8.03699688e+03,  8.04738313e+03, -1.45088737e+02,  6.73144559e+03,\n",
              "        1.08609766e+04,  9.05195103e+03,  1.33215358e+04,  5.65027103e+03,\n",
              "        3.83897874e+03,  3.19176473e+04,  3.55408443e+04,  2.22251046e+03,\n",
              "        3.71299005e+04,  2.86738676e+04,  2.19966136e+03,  9.01586487e+03,\n",
              "        1.14496330e+04,  3.13483373e+04,  3.18297848e+04,  1.29329533e+04,\n",
              "        1.08770790e+04,  5.90939911e+03,  6.52382399e+03,  6.07725127e+03,\n",
              "        2.67898162e+04,  8.11011086e+03,  5.99742618e+03,  8.98831876e+03,\n",
              "        9.76528777e+03,  3.51235188e+04,  1.67395444e+04,  9.02336083e+03,\n",
              "        1.25301275e+04,  3.07363341e+04,  1.70643265e+04,  9.14257928e+03,\n",
              "        1.38721947e+04,  7.53448324e+03,  2.18448150e+03,  3.69262487e+01,\n",
              "        1.06459224e+04,  2.59144513e+04,  8.20473732e+03,  1.19208679e+04,\n",
              "        3.67514969e+04,  8.26953571e+03,  5.26541503e+03,  1.33304481e+04,\n",
              "        1.55938941e+03,  6.05302088e+03,  1.68413540e+04,  1.42207624e+04,\n",
              "        2.51960836e+04,  2.84984294e+04,  1.51665054e+04,  3.14682227e+03,\n",
              "        1.26865027e+04, -4.09284278e+02,  1.16527679e+04,  3.82424565e+04,\n",
              "        2.98373748e+04,  3.52811117e+03,  8.49506502e+02,  1.45493089e+04,\n",
              "        1.39709421e+04,  1.76433014e+04,  1.31513063e+04,  1.46004748e+04,\n",
              "        3.11032208e+04,  1.03629327e+04,  8.11592740e+03,  3.30229905e+04,\n",
              "        1.23496014e+04,  5.57018581e+03,  3.49333442e+04,  2.98918883e+04,\n",
              "        5.70958131e+03,  3.11054227e+03,  7.24568737e+03,  4.18613272e+03,\n",
              "        1.52709207e+04,  1.37918200e+04,  2.43948522e+03,  1.24889200e+03,\n",
              "        1.45862698e+04,  1.73787429e+04,  1.14879006e+04,  9.63677031e+03,\n",
              "        1.24548881e+04,  2.73381625e+04,  8.99642425e+03,  8.15485627e+03,\n",
              "        9.74679771e+03,  7.67766235e+03,  8.24222133e+03,  3.43264390e+03,\n",
              "        1.08539533e+04,  8.52191396e+03,  7.60960848e+03,  7.73746789e+03,\n",
              "        6.68190083e+03,  3.33841396e+03,  8.15194326e+03,  7.53858443e+03,\n",
              "        6.03869714e+03,  2.84580384e+03,  2.69578319e+04,  1.48954775e+04,\n",
              "        5.44269206e+03,  3.02612325e+03,  9.11988758e+02,  9.16920753e+03,\n",
              "        7.49628369e+03,  3.62059348e+04,  4.61918451e+03,  2.96673671e+04,\n",
              "        1.22514944e+04,  5.47214629e+03,  4.12527428e+03,  3.62054931e+03,\n",
              "        6.36522395e+03,  1.01591518e+04,  3.05055302e+04,  9.74416963e+03,\n",
              "       -4.20042715e+01,  1.00048897e+04, -7.55142492e+02,  7.50095890e+03,\n",
              "        7.24438843e+03,  6.24309249e+03,  3.72911403e+03,  1.55680351e+04,\n",
              "        6.03889916e+03,  2.89747280e+04,  3.37627699e+04,  1.56606791e+04,\n",
              "        3.04551356e+03,  9.83652654e+03,  1.31075627e+04,  1.89612586e+04,\n",
              "        9.60675681e+03,  1.50602486e+04,  2.62576843e+04,  7.93776818e+03,\n",
              "        3.32000293e+04,  3.49859694e+04,  3.77523125e+03,  1.35051980e+04,\n",
              "        6.20204317e+03,  6.39506150e+03,  3.58227835e+04,  2.54488598e+03,\n",
              "        2.53819025e+03,  5.89551012e+03,  3.93614897e+04,  1.28889871e+02,\n",
              "        5.70505246e+03,  7.01859324e+03,  6.38476875e+03,  6.52313174e+03,\n",
              "        1.58085408e+04,  7.32284510e+03,  5.78325729e+03,  3.49420033e+04,\n",
              "        9.62326363e+03,  5.77833458e+03,  1.16960025e+04,  2.07329862e+03,\n",
              "        3.65878603e+03,  4.55061070e+03,  1.07094098e+04,  4.06172927e+03,\n",
              "        1.20194441e+04,  1.20857390e+04,  3.09001360e+04,  2.35737771e+03,\n",
              "        1.85113890e+03,  1.52466210e+04,  6.93604825e+03,  1.22968617e+04,\n",
              "        2.99651281e+04,  3.37819023e+04,  9.29766772e+03,  3.81435268e+04,\n",
              "        3.02656580e+04,  4.05625370e+03,  1.19212887e+04,  2.88525604e+03,\n",
              "        1.61120191e+04,  7.36712021e+03,  1.26868700e+04,  5.75327215e+03,\n",
              "        1.27136705e+04,  1.04951425e+04,  1.57278086e+03,  2.99642426e+04])"
            ]
          },
          "metadata": {},
          "execution_count": 10
        }
      ]
    },
    {
      "cell_type": "code",
      "source": [
        "from sklearn.metrics import mean_absolute_error, mean_squared_error, r2_score\n",
        "# Evaluate the model's performance\n",
        "mae =mean_absolute_error(y_test,y_pred)\n",
        "mse = mean_squared_error(y_test, y_pred)\n",
        "rmse = mean_squared_error(y_test, y_pred, squared=False)\n",
        "r2 = r2_score(y_test, y_pred)\n",
        "print(f\"Mean Absolute Error: {mae:.2f}\")\n",
        "print(f\"Mean Squared Error: {mse:.2f}\")\n",
        "print(f\"Root Mean Squared Error: {rmse:.2f}\")\n",
        "print(f\"R-squared (R2) Score: {r2:.2f}\")"
      ],
      "metadata": {
        "colab": {
          "base_uri": "https://localhost:8080/"
        },
        "id": "sg0e2ooqvUFG",
        "outputId": "bc936693-f6d3-4b5a-e796-917166a1dc9b"
      },
      "execution_count": 11,
      "outputs": [
        {
          "output_type": "stream",
          "name": "stdout",
          "text": [
            "Mean Absolute Error: 4358.28\n",
            "Mean Squared Error: 39737837.06\n",
            "Root Mean Squared Error: 6303.80\n",
            "R-squared (R2) Score: 0.73\n"
          ]
        }
      ]
    },
    {
      "cell_type": "code",
      "source": [
        "plt.scatter(y_test, y_pred)\n",
        "plt.xlabel(\"Actual Charges\")\n",
        "plt.ylabel(\"Predicted Charges\")\n",
        "plt.title(\"Actual vs. Predicted Charges\")\n",
        "plt.show()"
      ],
      "metadata": {
        "colab": {
          "base_uri": "https://localhost:8080/",
          "height": 472
        },
        "id": "yyoQRTWgvUIM",
        "outputId": "7d7f9ba8-21cf-40b7-e772-65d9c7542f72"
      },
      "execution_count": 12,
      "outputs": [
        {
          "output_type": "display_data",
          "data": {
            "text/plain": [
              "<Figure size 640x480 with 1 Axes>"
            ],
            "image/png": "[encoded data removed]"
          },
          "metadata": {}
        }
      ]
    },
    {
      "cell_type": "code",
      "source": [
        "#adjusted r squared\n",
        "n =len(y_test)\n",
        "p=X_test.shape[1]\n",
        "p\n",
        "adj_r2= 1 - (1-r2) * (n - 1) / (n - p -1)\n",
        "print(f\"adjusted R-squared:{adj_r2:.2f}\")"
      ],
      "metadata": {
        "colab": {
          "base_uri": "https://localhost:8080/"
        },
        "id": "OlobHgzovuFX",
        "outputId": "c2da445b-3b44-46b1-96a8-483c616b5287"
      },
      "execution_count": 13,
      "outputs": [
        {
          "output_type": "stream",
          "name": "stdout",
          "text": [
            "adjusted R-squared:0.73\n"
          ]
        }
      ]
    },
    {
      "cell_type": "code",
      "source": [
        "#residual sum of squares\n",
        "rss = ((y_test-y_pred)**2).sum()\n",
        "print(f\"Residual sum of squares :{rss:.2f}\")\n",
        "print(\"\")"
      ],
      "metadata": {
        "colab": {
          "base_uri": "https://localhost:8080/"
        },
        "id": "8dtPAyHbvuIV",
        "outputId": "65f60d1d-339e-4cfc-9e69-ae456b885e28"
      },
      "execution_count": 14,
      "outputs": [
        {
          "output_type": "stream",
          "name": "stdout",
          "text": [
            "Residual sum of squares :10649740332.15\n",
            "\n"
          ]
        }
      ]
    },
    {
      "cell_type": "code",
      "source": [
        "# Get the coefficients of the model\n",
        "coefficients = base_model.coef_\n",
        "abs_coefficients=abs(coefficients)\n",
        "# Create a DataFrame to display the coefficients along with feature names\n",
        "feature_names = X_train.columns\n",
        "coefficients_df = pd.DataFrame({'Feature': feature_names, 'Coefficient': coefficients,'Absolute_Coefficient':abs_coefficients})\n",
        "\n",
        "# Sort the coefficients by absolute value in descending order to identify the most important features\n",
        "\n",
        "coefficients_df = coefficients_df.sort_values(by='Absolute_Coefficient', ascending=False)\n",
        "\n",
        "# Print the feature importance table\n",
        "print(coefficients_df)\n",
        "plt.figure(figsize=(10, 6))\n",
        "plt.barh(coefficients_df['Feature'], coefficients_df['Coefficient'])\n",
        "plt.xlabel('Coefficient Value')\n",
        "plt.ylabel('Feature')\n",
        "plt.title('Feature Importance in Linear Regression')\n",
        "plt.show()\n"
      ],
      "metadata": {
        "colab": {
          "base_uri": "https://localhost:8080/",
          "height": 245
        },
        "id": "fMd13RjTvuKy",
        "outputId": "e6667a09-1615-4928-95bc-4050f0926283"
      },
      "execution_count": 17,
      "outputs": [
        {
          "output_type": "error",
          "ename": "NameError",
          "evalue": "ignored",
          "traceback": [
            "\u001b[0;31m---------------------------------------------------------------------------\u001b[0m",
            "\u001b[0;31mNameError\u001b[0m                                 Traceback (most recent call last)",
            "\u001b[0;32m<ipython-input-17-faecb0593899>\u001b[0m in \u001b[0;36m<cell line: 2>\u001b[0;34m()\u001b[0m\n\u001b[1;32m      1\u001b[0m \u001b[0;31m# Get the coefficients of the model\u001b[0m\u001b[0;34m\u001b[0m\u001b[0;34m\u001b[0m\u001b[0m\n\u001b[0;32m----> 2\u001b[0;31m \u001b[0mcoefficients\u001b[0m \u001b[0;34m=\u001b[0m \u001b[0mbase_model\u001b[0m\u001b[0;34m.\u001b[0m\u001b[0mcoef_\u001b[0m\u001b[0;34m\u001b[0m\u001b[0;34m\u001b[0m\u001b[0m\n\u001b[0m\u001b[1;32m      3\u001b[0m \u001b[0mabs_coefficients\u001b[0m\u001b[0;34m=\u001b[0m\u001b[0mabs\u001b[0m\u001b[0;34m(\u001b[0m\u001b[0mcoefficients\u001b[0m\u001b[0;34m)\u001b[0m\u001b[0;34m\u001b[0m\u001b[0;34m\u001b[0m\u001b[0m\n\u001b[1;32m      4\u001b[0m \u001b[0;31m# Create a DataFrame to display the coefficients along with feature names\u001b[0m\u001b[0;34m\u001b[0m\u001b[0;34m\u001b[0m\u001b[0m\n\u001b[1;32m      5\u001b[0m \u001b[0mfeature_names\u001b[0m \u001b[0;34m=\u001b[0m \u001b[0mX_train\u001b[0m\u001b[0;34m.\u001b[0m\u001b[0mcolumns\u001b[0m\u001b[0;34m\u001b[0m\u001b[0;34m\u001b[0m\u001b[0m\n",
            "\u001b[0;31mNameError\u001b[0m: name 'base_model' is not defined"
          ]
        }
      ]
    },
    {
      "cell_type": "code",
      "source": [
        "plt.figure(figsize=(8, 6))\n",
        "plt.scatter(y_test, y_pred,alpha=0.5)\n",
        "plt.xlabel(\"Actual Charges\")\n",
        "plt.ylabel(\"Predicted Charges\")\n",
        "plt.title(\"Actual vs. Predicted Charges\")\n",
        "plt.plot([min(y_test), max(y_test)], [min(y_test), max(y_test)], linestyle='-', color='blue', linewidth=2)\n",
        "plt.show()\n"
      ],
      "metadata": {
        "id": "z8ZYuYsQvuNb"
      },
      "execution_count": null,
      "outputs": []
    },
    {
      "cell_type": "code",
      "source": [
        "print(\"we can say that from the above the factors that contribute to higher medical insurance are is region and smoking and with smaller impacts can be bmi  and age  and also the individuals reduce the cost of insurance by quit smoking lifestyle etc \")"
      ],
      "metadata": {
        "id": "3hKVwYSRvuQ4"
      },
      "execution_count": null,
      "outputs": []
    }
  ]
}